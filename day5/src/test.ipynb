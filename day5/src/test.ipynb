{
 "cells": [
  {
   "cell_type": "code",
   "execution_count": 6,
   "metadata": {},
   "outputs": [],
   "source": [
    "import numpy as np\n",
    "import os\n"
   ]
  },
  {
   "cell_type": "code",
   "execution_count": 22,
   "metadata": {},
   "outputs": [],
   "source": [
    "lines = []\n",
    "def get_line(text_line):\n",
    "\treturn [tuple(int(s) for s in p.split(',')) for p in text_line.split(\" -> \")]\n",
    "\n",
    "\n",
    "with open ('../day5_sample.in', 'r') as f:\n",
    "\ttext_lines = f.readlines()\n",
    "\tfor line in text_lines:\n",
    "\t\tlines.append(get_line(line.strip()))\n",
    "\n",
    "board_size = len(lines)\n"
   ]
  },
  {
   "cell_type": "markdown",
   "metadata": {},
   "source": [
    "### Get horizontal and vertical lines"
   ]
  },
  {
   "cell_type": "code",
   "execution_count": 39,
   "metadata": {},
   "outputs": [],
   "source": [
    "def is_horizontal(line):\n",
    "\tif line[0][1] == line[1][1]:\n",
    "\t\treturn True\n",
    "\treturn False\n",
    "\n",
    "def is_vertical(line):\n",
    "\tif line[0][0] == line[1][0]:\n",
    "\t\treturn True\n",
    "\treturn False\n",
    "\n",
    "def get_horizontal_lines(lines):\n",
    "\thorizontal_lines = []\n",
    "\tfor line in lines:\n",
    "\t\tif is_horizontal(line):\n",
    "\t\t\thorizontal_lines.append(line)\n",
    "\n",
    "\treturn horizontal_lines\n",
    "\n",
    "def get_vertical_lines(lines):\n",
    "\tvertical_lines = []\n",
    "\tfor line in lines:\n",
    "\t\tif is_vertical(line):\n",
    "\t\t\tvertical_lines.append(line)\n",
    "\n",
    "\treturn vertical_lines"
   ]
  },
  {
   "cell_type": "code",
   "execution_count": 46,
   "metadata": {},
   "outputs": [],
   "source": [
    "horizontal= get_horizontal_lines(lines)\n",
    "vertical = get_vertical_lines(lines)\n",
    "horizontal.extend(vertical)"
   ]
  },
  {
   "cell_type": "code",
   "execution_count": 47,
   "metadata": {},
   "outputs": [
    {
     "name": "stdout",
     "output_type": "stream",
     "text": [
      "[(0, 9), (5, 9)]\n",
      "[(9, 4), (3, 4)]\n",
      "[(0, 9), (2, 9)]\n",
      "[(3, 4), (1, 4)]\n",
      "[(2, 2), (2, 1)]\n",
      "[(7, 0), (7, 4)]\n"
     ]
    }
   ],
   "source": [
    "for line in horizontal:\n",
    "\tprint(line)"
   ]
  },
  {
   "cell_type": "code",
   "execution_count": 54,
   "metadata": {},
   "outputs": [],
   "source": [
    "def print_board(board):\n",
    "\tfor l in board:\n",
    "\t\tprint(l)\n",
    "\n",
    "def part1(lines):\n",
    "\tboard = [[0]*10]*10\n",
    "\tprint(\"Initial board: \")\n",
    "\tprint_board(board)\n",
    "\n",
    "\tfor line in lines:\n",
    "\t\tif is_horizontal(line):\n",
    "\t\t\tif line[0][0] > line[1][0]:\n",
    "\t\t\t\tstartpoint = line[1][0]\n",
    "\t\t\t\tendpoint = line[0][0]\n",
    "\t\t\telse:\n",
    "\t\t\t\tstartpoint = line[0][0]\n",
    "\t\t\t\tendpoint = line[1][0]\n",
    "\t\t\tfor i in range(startpoint, endpoint + 1):\n",
    "\t\t\t\tboard[i][line[0][1]] += 1\n",
    "\n",
    "\tprint_board(board)\n"
   ]
  },
  {
   "cell_type": "code",
   "execution_count": 55,
   "metadata": {},
   "outputs": [
    {
     "name": "stdout",
     "output_type": "stream",
     "text": [
      "Initial board: \n",
      "[0, 0, 0, 0, 0, 0, 0, 0, 0, 0]\n",
      "[0, 0, 0, 0, 0, 0, 0, 0, 0, 0]\n",
      "[0, 0, 0, 0, 0, 0, 0, 0, 0, 0]\n",
      "[0, 0, 0, 0, 0, 0, 0, 0, 0, 0]\n",
      "[0, 0, 0, 0, 0, 0, 0, 0, 0, 0]\n",
      "[0, 0, 0, 0, 0, 0, 0, 0, 0, 0]\n",
      "[0, 0, 0, 0, 0, 0, 0, 0, 0, 0]\n",
      "[0, 0, 0, 0, 0, 0, 0, 0, 0, 0]\n",
      "[0, 0, 0, 0, 0, 0, 0, 0, 0, 0]\n",
      "[0, 0, 0, 0, 0, 0, 0, 0, 0, 0]\n",
      "[0, 0, 0, 0, 10, 0, 0, 0, 0, 9]\n",
      "[0, 0, 0, 0, 10, 0, 0, 0, 0, 9]\n",
      "[0, 0, 0, 0, 10, 0, 0, 0, 0, 9]\n",
      "[0, 0, 0, 0, 10, 0, 0, 0, 0, 9]\n",
      "[0, 0, 0, 0, 10, 0, 0, 0, 0, 9]\n",
      "[0, 0, 0, 0, 10, 0, 0, 0, 0, 9]\n",
      "[0, 0, 0, 0, 10, 0, 0, 0, 0, 9]\n",
      "[0, 0, 0, 0, 10, 0, 0, 0, 0, 9]\n",
      "[0, 0, 0, 0, 10, 0, 0, 0, 0, 9]\n",
      "[0, 0, 0, 0, 10, 0, 0, 0, 0, 9]\n"
     ]
    }
   ],
   "source": [
    "part1(horizontal)"
   ]
  },
  {
   "cell_type": "code",
   "execution_count": null,
   "metadata": {},
   "outputs": [],
   "source": []
  }
 ],
 "metadata": {
  "interpreter": {
   "hash": "86ab62c7afa3e805522587d18d2f85f1239af5fbeb4ef98c32edd24ce5802266"
  },
  "kernelspec": {
   "display_name": "Python 3.8.13 ('base')",
   "language": "python",
   "name": "python3"
  },
  "language_info": {
   "codemirror_mode": {
    "name": "ipython",
    "version": 3
   },
   "file_extension": ".py",
   "mimetype": "text/x-python",
   "name": "python",
   "nbconvert_exporter": "python",
   "pygments_lexer": "ipython3",
   "version": "3.8.13"
  },
  "orig_nbformat": 4
 },
 "nbformat": 4,
 "nbformat_minor": 2
}
